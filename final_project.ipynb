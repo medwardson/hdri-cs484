{
 "cells": [
  {
   "cell_type": "markdown",
   "metadata": {},
   "source": [
    "## High-dynamic range imaging - The Debevec-Malik method\n",
    "#### April Li, Mesha Naidoo-Edwardson\n",
    "#### s826li@uwaterloo.ca, mnaidooe@uwaterloo.ca"
   ]
  },
  {
   "cell_type": "markdown",
   "metadata": {},
   "source": [
    "The goal of this project is to implement the high-dynamic range imaging (HDRI). HDRI is a method in photography that combines multiple exposures of the same subject matter with varying exposure levels to create more natural looking and brightened images. HDRI as a topic has several different algorithms. In this project, we will utilize the Debevec-Malik algorithm, published at UC Berekeley by Paul E. Debevec and Jitendra Malik. The algorithm is a method to recover high dynamic range radiance maps from images taken using convential imaging equipment. Using information from all the images, it fuses multiple photographs into a signle, high dynamic range radiance map. The pixels in the map have values proportional to true radiance values in the scene. \n",
    "\n",
    "Our goal is to separate the algorithm into easily digestable steps that make it simple to understand how the results are achieved. We will use a variety of examples to show the end result and compare our implementation against one by OpenCV, exploring any potential differences and reason about where they may originate."
   ]
  },
  {
   "cell_type": "markdown",
   "metadata": {},
   "source": [
    "## Team Members and Contributions\n",
    "April Li (s826li@uwaterloo.ca):\n",
    "\n",
    "Mesha Naidoo-Edwardson (mnaidooe@uwaterloo.ca):"
   ]
  },
  {
   "cell_type": "markdown",
   "metadata": {},
   "source": [
    "### Code Libraries\n",
    "- Numpy: Providing mathematical capabilities in python\n",
    "- OpenCV: Comparing with their implementation of the Debevec-Malik algorithm\n",
    "- ..."
   ]
  },
  {
   "cell_type": "code",
   "execution_count": null,
   "metadata": {},
   "outputs": [],
   "source": [
    "import numpy as np"
   ]
  },
  {
   "cell_type": "markdown",
   "metadata": {},
   "source": [
    "### Step 1"
   ]
  },
  {
   "cell_type": "markdown",
   "metadata": {},
   "source": [
    "..."
   ]
  },
  {
   "cell_type": "markdown",
   "metadata": {},
   "source": [
    "### Conclusions\n",
    ".........."
   ]
  }
 ],
 "metadata": {
  "language_info": {
   "name": "python"
  }
 },
 "nbformat": 4,
 "nbformat_minor": 2
}
